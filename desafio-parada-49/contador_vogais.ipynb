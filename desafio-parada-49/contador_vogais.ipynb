{
 "cells": [
  {
   "cell_type": "markdown",
   "metadata": {},
   "source": [
    "1 - Abre o arquivo em modo de leitura e conta o numero de vogais no texto"
   ]
  },
  {
   "cell_type": "code",
   "execution_count": 3,
   "metadata": {},
   "outputs": [
    {
     "name": "stdout",
     "output_type": "stream",
     "text": [
      "a: 112\n",
      "e: 115\n",
      "i: 61\n",
      "o: 84\n",
      "u: 31\n"
     ]
    }
   ],
   "source": [
    "def contar_vogais(texto):\n",
    "    vogais = {'a': 0, 'e': 0, 'i': 0, 'o': 0, 'u': 0}\n",
    "\n",
    "    for letra in texto:\n",
    "        if letra in vogais:\n",
    "            vogais[letra] += 1\n",
    "\n",
    "    return vogais\n",
    "\n",
    "try:\n",
    "    # Abrir o arquivo para leitura\n",
    "    with open(\"letras.txt\", \"r\", encoding=\"utf-8\") as arquivo:\n",
    "        # Ler todo o conteúdo do arquivo\n",
    "        texto = arquivo.read()\n",
    "\n",
    "        # Chamar a função para contar as vogais no texto\n",
    "        resultado = contar_vogais(texto)\n",
    "\n",
    "        # Exibir os resultados\n",
    "        for vogal, quantidade in resultado.items():\n",
    "            print(f'{vogal}: {quantidade}')\n",
    "\n",
    "except FileNotFoundError:\n",
    "    print(\"O arquivo 'letras.txt' não foi encontrado.\")\n",
    "except Exception as e:\n",
    "    print(f\"Ocorreu um erro: {e}\")\n"
   ]
  }
 ],
 "metadata": {
  "kernelspec": {
   "display_name": "Python 3",
   "language": "python",
   "name": "python3"
  },
  "language_info": {
   "codemirror_mode": {
    "name": "ipython",
    "version": 3
   },
   "file_extension": ".py",
   "mimetype": "text/x-python",
   "name": "python",
   "nbconvert_exporter": "python",
   "pygments_lexer": "ipython3",
   "version": "3.10.6"
  },
  "orig_nbformat": 4
 },
 "nbformat": 4,
 "nbformat_minor": 2
}
